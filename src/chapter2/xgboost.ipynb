{
 "cells": [
  {
   "cell_type": "code",
   "execution_count": 1,
   "metadata": {},
   "outputs": [
    {
     "name": "stdout",
     "output_type": "stream",
     "text": [
      "Accuracy: 100.00%\n"
     ]
    }
   ],
   "source": [
    "# Importing necessary libraries for the example\n",
    "from xgboost import XGBClassifier\n",
    "import numpy as np\n",
    "from sklearn.model_selection import train_test_split\n",
    "from sklearn.metrics import accuracy_score\n",
    "\n",
    "# Creating a synthetic dataset for the Husky and Wolf example\n",
    "# [weight, height]\n",
    "# Huskies are represented by 1 and Wolves by 0\n",
    "X = np.array([[40, 22], [38, 20], [35, 24], [50, 28], [54, 30], [52, 29], [48, 31], [41, 23], [39, 21], [36, 25]])  # feature set\n",
    "y = np.array([1, 1, 1, 0, 0, 0, 0, 1, 1, 1])  # labels: 1 for Husky, 0 for Wolf\n",
    "\n",
    "# Splitting the dataset into training and testing sets\n",
    "X_train, X_test, y_train, y_test = train_test_split(X, y, test_size=0.2, random_state=42)\n",
    "\n",
    "# Instantiate XGBoost classifier\n",
    "xgb_clf = XGBClassifier()\n",
    "\n",
    "# Fitting the model to the training data\n",
    "xgb_clf.fit(X_train, y_train)\n",
    "\n",
    "# Predicting the labels for the test set\n",
    "y_pred = xgb_clf.predict(X_test)\n",
    "\n",
    "# Calculating the accuracy of the model\n",
    "accuracy = accuracy_score(y_test, y_pred)\n",
    "print(f'Accuracy: {accuracy * 100:.2f}%')"
   ]
  }
 ],
 "metadata": {
  "kernelspec": {
   "display_name": "fundamentals",
   "language": "python",
   "name": "python3"
  },
  "language_info": {
   "codemirror_mode": {
    "name": "ipython",
    "version": 3
   },
   "file_extension": ".py",
   "mimetype": "text/x-python",
   "name": "python",
   "nbconvert_exporter": "python",
   "pygments_lexer": "ipython3",
   "version": "3.11.4"
  }
 },
 "nbformat": 4,
 "nbformat_minor": 2
}
